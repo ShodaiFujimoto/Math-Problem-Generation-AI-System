{
  "nbformat": 4,
  "nbformat_minor": 0,
  "metadata": {
    "colab": {
      "provenance": [],
      "gpuType": "T4",
      "authorship_tag": "ABX9TyPkKuL5d2T7HbKwiRVJcyx+"
    },
    "kernelspec": {
      "name": "python3",
      "display_name": "Python 3"
    },
    "language_info": {
      "name": "python"
    },
    "accelerator": "GPU"
  },
  "cells": [
    {
      "cell_type": "code",
      "execution_count": null,
      "metadata": {
        "id": "pX_-sDTYFt5l"
      },
      "outputs": [],
      "source": [
        "%%capture\n",
        "!pip install unsloth\n",
        "!pip uninstall unsloth -y && pip install --upgrade --no-cache-dir \"unsloth[colab-new] @ git+https://github.com/unslothai/unsloth.git\""
      ]
    },
    {
      "cell_type": "code",
      "source": [
        "from unsloth import FastLanguageModel\n",
        "import torch\n",
        "import json"
      ],
      "metadata": {
        "id": "ur6z8lNxF8hf"
      },
      "execution_count": null,
      "outputs": []
    },
    {
      "cell_type": "code",
      "source": [
        "model_name = \"Shodai1122/gemma-2-2b-it\""
      ],
      "metadata": {
        "id": "WlbjcL3mGAPF"
      },
      "execution_count": null,
      "outputs": []
    },
    {
      "cell_type": "code",
      "source": [
        "max_seq_length = 2048\n",
        "dtype = None\n",
        "load_in_4bit = True\n",
        "\n",
        "model, tokenizer = FastLanguageModel.from_pretrained(\n",
        "    model_name = model_name,\n",
        "    max_seq_length = max_seq_length,\n",
        "    dtype = dtype,\n",
        "    load_in_4bit = load_in_4bit,\n",
        "    token = \"\", #input your hg key here\n",
        ")\n",
        "FastLanguageModel.for_inference(model)"
      ],
      "metadata": {
        "id": "2AtaIsEDGHzc"
      },
      "execution_count": null,
      "outputs": []
    },
    {
      "cell_type": "code",
      "source": [
        "from datasets import load_dataset\n",
        "datasets = load_dataset('neural-bridge/rag-dataset-12000', split='test')\n",
        "print(f\"Train dataset size: {len(datasets)} \")"
      ],
      "metadata": {
        "id": "CbrVhkU9GSiR"
      },
      "execution_count": null,
      "outputs": []
    },
    {
      "cell_type": "code",
      "source": [
        "datasets = datasets.select(range(100))\n",
        "print(len(datasets))"
      ],
      "metadata": {
        "id": "B5-5h-CyLfN-"
      },
      "execution_count": null,
      "outputs": []
    },
    {
      "cell_type": "code",
      "source": [
        "print(datasets[0])"
      ],
      "metadata": {
        "id": "DgqHHWmMR2vM"
      },
      "execution_count": null,
      "outputs": []
    },
    {
      "cell_type": "code",
      "source": [
        "from tqdm import tqdm\n",
        "\n",
        "# 推論\n",
        "results = []\n",
        "for dt in tqdm(datasets):\n",
        "  context=dt[\"context\"]\n",
        "  question = dt[\"question\"]\n",
        "  answer = dt[\"answer\"]\n",
        "\n",
        "  prompt = f\"\"\"Given the following passage, answer the related question.\\n### Passage\\n{context}\\n### Question\\n{question}\\n### Answer\\n\"\"\"\n",
        "\n",
        "  inputs = tokenizer([prompt], return_tensors = \"pt\").to(model.device)\n",
        "\n",
        "  outputs = model.generate(**inputs, max_new_tokens = 512, use_cache = True, do_sample=False, repetition_penalty=1.2)\n",
        "  prediction = tokenizer.decode(outputs[0], skip_special_tokens=True).split('\\n### Answer')[-1]\n",
        "\n",
        "  results.append({\"question\": question, \"output\": prediction, \"answer\": answer})"
      ],
      "metadata": {
        "id": "3UisYosuGn4y"
      },
      "execution_count": null,
      "outputs": []
    },
    {
      "cell_type": "code",
      "source": [
        "with open(f\"gemma-2-2b-it_output.jsonl\", 'w', encoding='utf-8') as f:\n",
        "    for result in results:\n",
        "        json.dump(result, f, ensure_ascii=False)\n",
        "        f.write('\\n')"
      ],
      "metadata": {
        "id": "2xqDgpNjIqoS"
      },
      "execution_count": null,
      "outputs": []
    }
  ]
}